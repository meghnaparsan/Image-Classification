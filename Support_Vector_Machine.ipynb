{
  "nbformat": 4,
  "nbformat_minor": 0,
  "metadata": {
    "colab": {
      "name": "Support Vector Machine.ipynb",
      "provenance": [],
      "collapsed_sections": [],
      "machine_shape": "hm",
      "include_colab_link": true
    },
    "kernelspec": {
      "name": "python3",
      "display_name": "Python 3"
    }
  },
  "cells": [
    {
      "cell_type": "markdown",
      "metadata": {
        "id": "view-in-github",
        "colab_type": "text"
      },
      "source": [
        "<a href=\"https://colab.research.google.com/github/meghnaparsan/Image-Classification/blob/master/Support_Vector_Machine.ipynb\" target=\"_parent\"><img src=\"https://colab.research.google.com/assets/colab-badge.svg\" alt=\"Open In Colab\"/></a>"
      ]
    },
    {
      "cell_type": "code",
      "metadata": {
        "id": "RtNyvCHHXZvk",
        "colab_type": "code",
        "outputId": "53314839-2e37-4f1b-bcbc-0c1f51fde28d",
        "colab": {
          "base_uri": "https://localhost:8080/",
          "height": 125
        }
      },
      "source": [
        "from google.colab import drive\n",
        "drive.mount('/content/drive')"
      ],
      "execution_count": 0,
      "outputs": [
        {
          "output_type": "stream",
          "text": [
            "Go to this URL in a browser: https://accounts.google.com/o/oauth2/auth?client_id=947318989803-6bn6qk8qdgf4n4g3pfee6491hc0brc4i.apps.googleusercontent.com&redirect_uri=urn%3aietf%3awg%3aoauth%3a2.0%3aoob&response_type=code&scope=email%20https%3a%2f%2fwww.googleapis.com%2fauth%2fdocs.test%20https%3a%2f%2fwww.googleapis.com%2fauth%2fdrive%20https%3a%2f%2fwww.googleapis.com%2fauth%2fdrive.photos.readonly%20https%3a%2f%2fwww.googleapis.com%2fauth%2fpeopleapi.readonly\n",
            "\n",
            "Enter your authorization code:\n",
            "··········\n",
            "Mounted at /content/drive\n"
          ],
          "name": "stdout"
        }
      ]
    },
    {
      "cell_type": "code",
      "metadata": {
        "id": "IhEIK7_pZz27",
        "colab_type": "code",
        "colab": {}
      },
      "source": [
        "import os\n",
        "import cv2\n",
        "import numpy as np\n",
        "import matplotlib.pyplot as plt\n",
        "from sklearn.model_selection import train_test_split, GridSearchCV\n",
        "from sklearn import svm\n",
        "from sklearn.ensemble import BaggingClassifier\n",
        "from sklearn import metrics\n",
        "\n",
        "categories = [\"cardboard\", \"glass\", \"metal\", \"paper\", \"plastic\", \"trash\"]\n",
        "dataDirectory = '/content/drive/My Drive/DataSet/dataset-resized'"
      ],
      "execution_count": 0,
      "outputs": []
    },
    {
      "cell_type": "code",
      "metadata": {
        "id": "5GTU9xlBf-5l",
        "colab_type": "code",
        "colab": {}
      },
      "source": [
        "features = []\n",
        "labels = []\n",
        "\n",
        "for category in categories:\n",
        "  path = os.path.join (dataDirectory, category)\n",
        "  classNumber = categories.index(category)\n",
        "  for image in os.listdir (path):\n",
        "    try:\n",
        "      labels.append (classNumber);\n",
        "      image_array = cv2.imread (os.path.join (path, image), cv2.IMREAD_UNCHANGED)\n",
        "      image_resize = cv2.resize (image_array, (50, 50))\n",
        "      features.append (image_resize)\n",
        "    except Exception as e:\n",
        "      pass"
      ],
      "execution_count": 0,
      "outputs": []
    },
    {
      "cell_type": "code",
      "metadata": {
        "id": "CpAxekJKgVqo",
        "colab_type": "code",
        "outputId": "1782a5a2-c101-47d8-ec8b-616ce9ec1610",
        "colab": {
          "base_uri": "https://localhost:8080/",
          "height": 87
        }
      },
      "source": [
        "print (len (features))\n",
        "print (len (labels))\n",
        "\n",
        "print (type (features))\n",
        "print (type (labels))"
      ],
      "execution_count": 0,
      "outputs": [
        {
          "output_type": "stream",
          "text": [
            "2535\n",
            "2535\n",
            "<class 'list'>\n",
            "<class 'list'>\n"
          ],
          "name": "stdout"
        }
      ]
    },
    {
      "cell_type": "code",
      "metadata": {
        "id": "jBNckXS4jJSo",
        "colab_type": "code",
        "colab": {}
      },
      "source": [
        "features = np.asarray(features)\n",
        "labels = np.asarray(labels)\n",
        "\n",
        "features_train, features_test, labels_train, labels_test = train_test_split (features, labels)"
      ],
      "execution_count": 0,
      "outputs": []
    },
    {
      "cell_type": "code",
      "metadata": {
        "id": "iOLsv8NXj5CR",
        "colab_type": "code",
        "outputId": "62e93194-fd52-4aba-8457-b494973148ed",
        "colab": {
          "base_uri": "https://localhost:8080/",
          "height": 158
        }
      },
      "source": [
        "print (len (features_train))\n",
        "print (len (features_test))\n",
        "print (len (labels_train))\n",
        "print (len (labels_test))\n",
        "\n",
        "# TwoDim_dataset = dataset.reshape(dataset_size,-1)\n",
        "\n",
        "print (labels_train.shape)\n",
        "print (labels_test.shape)\n",
        "X_train = features_train.reshape (1901, -1)\n",
        "print (X_train.shape)\n",
        "\n",
        "X_test = features_test.reshape (634, -1)\n",
        "print (X_test.shape)\n"
      ],
      "execution_count": 0,
      "outputs": [
        {
          "output_type": "stream",
          "text": [
            "1901\n",
            "634\n",
            "1901\n",
            "634\n",
            "(1901,)\n",
            "(634,)\n",
            "(1901, 7500)\n",
            "(634, 7500)\n"
          ],
          "name": "stdout"
        }
      ]
    },
    {
      "cell_type": "code",
      "metadata": {
        "id": "LI-GPNIAfiqy",
        "colab_type": "code",
        "outputId": "9beb33cd-9700-4478-9a40-574c0692b2b0",
        "colab": {
          "base_uri": "https://localhost:8080/"
        }
      },
      "source": [
        "C = 1.0\n",
        "X_train = X_train [:, : 2]\n",
        "\n",
        "svc = svm.SVC (kernel = \"linear\", C = C).fit (X_train, labels_train)\n",
        "x_min, x_max = X_train [:, 0].min() - 1, X_train [:, 0].max() + 1\n",
        "y_min, y_max = X_train [:, 1].min() - 1, X_train [:, 1].max() + 1\n",
        "\n",
        "xx, yy = np.meshgrid(np.arange (x_min, x_max, 0.02),\n",
        "                     np.arange (y_min, y_max, 0.02))\n",
        "\n",
        "plt.subplot (2, 2, 1)\n",
        "plt.subplots_adjust (wspace = 0.4, hspace = 0.4)\n",
        "Z = svc.predict (np.c_[xx.ravel(), yy.ravel()])\n",
        "\n",
        "Z = Z.reshape (xx.shape)\n",
        "plt.contourf (xx, yy, Z, cmap = plt.cm.coolwarm, alpha = 0.8)\n",
        "\n",
        "plt.scatter (X_train [:, 0], X_train [:, 1], c = labels_train, cmap = plt.cm.coolwarm)\n",
        "plt.xlabel (\"X\")\n",
        "plt.ylabel (\"Y\")\n",
        "plt.xlim (xx.min(), xx.max())\n",
        "plt.ylim (yy.min(), yy.max())\n",
        "plt.xticks(())\n",
        "plt.yticks(())\n",
        "plt.title (\"SVM with linear kernel\")\n",
        "\n",
        "plt.show()  "
      ],
      "execution_count": 0,
      "outputs": [
        {
          "output_type": "display_data",
          "data": {
            "image/png": "[encoded data removed]",
            "text/plain": [
              "<Figure size 432x288 with 1 Axes>"
            ]
          },
          "metadata": {
            "tags": []
          }
        }
      ]
    },
    {
      "cell_type": "code",
      "metadata": {
        "id": "LFzen030Rz0-",
        "colab_type": "code",
        "outputId": "c1ce94f9-7d53-43b1-a232-3b42f4c72e57",
        "colab": {
          "base_uri": "https://localhost:8080/",
          "height": 34
        }
      },
      "source": [
        "predicted = svc.predict (X_test)\n",
        "accuracy = metrics.accuracy_score (labels_test, predicted)\n",
        "accuracy"
      ],
      "execution_count": 0,
      "outputs": [
        {
          "output_type": "execute_result",
          "data": {
            "text/plain": [
              "0.43690851735015773"
            ]
          },
          "metadata": {
            "tags": []
          },
          "execution_count": 9
        }
      ]
    },
    {
      "cell_type": "code",
      "metadata": {
        "id": "tCsejGzytqUG",
        "colab_type": "code",
        "outputId": "65e395bd-7e62-4512-f5a1-3318526bd328",
        "colab": {
          "base_uri": "https://localhost:8080/",
          "height": 34
        }
      },
      "source": [
        "predictedrbf = rbf_svc.predict (X_test)\n",
        "accuracy = metrics.accuracy_score (labels_test, predictedrbf)\n",
        "accuracy"
      ],
      "execution_count": 0,
      "outputs": [
        {
          "output_type": "execute_result",
          "data": {
            "text/plain": [
              "0.24921135646687698"
            ]
          },
          "metadata": {
            "tags": []
          },
          "execution_count": 13
        }
      ]
    },
    {
      "cell_type": "code",
      "metadata": {
        "id": "tanEmeBouJXE",
        "colab_type": "code",
        "outputId": "98c5a8a2-488c-4c5d-f367-0c92b3638778",
        "colab": {
          "base_uri": "https://localhost:8080/",
          "height": 34
        }
      },
      "source": [
        "poly_svc = svm.SVC (kernel = \"poly\", degree = 5, C = C).fit (X_train, labels_train)\n",
        "predictedpoly = poly_svc.predict(X_test)\n",
        "accuracy = metrics.accuracy_score (labels_test, predictedpoly)\n",
        "accuracy"
      ],
      "execution_count": 0,
      "outputs": [
        {
          "output_type": "execute_result",
          "data": {
            "text/plain": [
              "0.49053627760252366"
            ]
          },
          "metadata": {
            "tags": []
          },
          "execution_count": 15
        }
      ]
    },
    {
      "cell_type": "code",
      "metadata": {
        "id": "r-XBMJSAXEeO",
        "colab_type": "code",
        "outputId": "561f3608-d382-4454-d3bb-74f029245001",
        "colab": {
          "base_uri": "https://localhost:8080/",
          "height": 152
        }
      },
      "source": [
        "C = 1.0\n",
        "X_train = X_train [:, : 2]\n",
        "\n",
        "svc = svm.SVC (kernel = \"poly\", degree = 5, C = C).fit (X_train, labels_train)\n",
        "x_min, x_max = X_train [:, 0].min() - 1, X_train [:, 0].max() + 1\n",
        "y_min, y_max = X_train [:, 1].min() - 1, X_train [:, 1].max() + 1\n",
        "\n",
        "xx, yy = np.meshgrid(np.arange (x_min, x_max, 0.02),\n",
        "                     np.arange (y_min, y_max, 0.02))\n",
        "\n",
        "plt.subplot (2, 2, 1)\n",
        "plt.subplots_adjust (wspace = 0.4, hspace = 0.4)\n",
        "Z = svc.predict (np.c_[xx.ravel(), yy.ravel()])\n",
        "\n",
        "Z = Z.reshape (xx.shape)\n",
        "plt.contourf (xx, yy, Z, cmap = plt.cm.coolwarm, alpha = 0.8)\n",
        "\n",
        "plt.scatter (X_train [:, 0], X_train [:, 1], c = labels_train, cmap = plt.cm.coolwarm)\n",
        "plt.xlabel (\"X\")\n",
        "plt.ylabel (\"Y\")\n",
        "plt.xlim (xx.min(), xx.max())\n",
        "plt.ylim (yy.min(), yy.max())\n",
        "plt.xticks(())\n",
        "plt.yticks(())\n",
        "plt.title (\"SVM with Polynomial kernel and with degree 5\")\n",
        "\n",
        "plt.show()  "
      ],
      "execution_count": 0,
      "outputs": [
        {
          "output_type": "display_data",
          "data": {
            "image/png": "[encoded data removed]",
            "text/plain": [
              "<Figure size 432x288 with 1 Axes>"
            ]
          },
          "metadata": {
            "tags": []
          }
        }
      ]
    },
    {
      "cell_type": "code",
      "metadata": {
        "id": "JOkYNm7Q-9ol",
        "colab_type": "code",
        "outputId": "bab71fe3-3209-480b-b8b4-55c98c0eb8d1",
        "colab": {
          "base_uri": "https://localhost:8080/",
          "height": 34
        }
      },
      "source": [
        "poly_svc = svm.SVC (kernel = \"poly\", degree = 5, C = C).fit (X_train, labels_train)\n",
        "predictedpoly = poly_svc.predict(X_test)\n",
        "accuracy = metrics.accuracy_score (labels_test, predictedpoly)\n",
        "accuracy"
      ],
      "execution_count": 0,
      "outputs": [
        {
          "output_type": "execute_result",
          "data": {
            "text/plain": [
              "0.5220820189274448"
            ]
          },
          "metadata": {
            "tags": []
          },
          "execution_count": 16
        }
      ]
    },
    {
      "cell_type": "code",
      "metadata": {
        "id": "s0Oe8B7fUY_x",
        "colab_type": "code",
        "colab": {}
      },
      "source": [
        "modelBag = BaggingClassifier (base_estimator = svm.SVC(kernel = 'poly', degree = 3, C = 1.0), n_estimators = 5).fit (X_train, labels_train)"
      ],
      "execution_count": 0,
      "outputs": []
    },
    {
      "cell_type": "code",
      "metadata": {
        "id": "ssAIKcJIUzBV",
        "colab_type": "code",
        "colab": {}
      },
      "source": [
        "predict_bag = modelBag.predict (X_test)"
      ],
      "execution_count": 0,
      "outputs": []
    },
    {
      "cell_type": "code",
      "metadata": {
        "id": "wqxqOxG4VsUe",
        "colab_type": "code",
        "outputId": "7eed114b-e198-4f9f-d9bd-fb6561511cc8",
        "colab": {
          "base_uri": "https://localhost:8080/",
          "height": 34
        }
      },
      "source": [
        "accuracy = metrics.accuracy_score (labels_test, predict_bag)\n",
        "accuracy"
      ],
      "execution_count": 0,
      "outputs": [
        {
          "output_type": "execute_result",
          "data": {
            "text/plain": [
              "0.49369085173501576"
            ]
          },
          "metadata": {
            "tags": []
          },
          "execution_count": 28
        }
      ]
    }
  ]
}